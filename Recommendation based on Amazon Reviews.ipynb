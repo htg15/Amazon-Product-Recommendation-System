{
 "cells": [
  {
   "cell_type": "markdown",
   "id": "51158eb3",
   "metadata": {},
   "source": [
    "## 2. Recommender System for Amazon Products\n",
    "\n",
    "We are building a recommender system for electronic products. We are working on Amazon Product Reviews dataset from Kaggle (https://www.kaggle.com/saurav9786/amazon-product-reviews). The attributes of this dataset are: user id, product id, rating (1-5) and timestamp."
   ]
  },
  {
   "cell_type": "code",
   "execution_count": 7,
   "id": "9b062562",
   "metadata": {},
   "outputs": [],
   "source": [
    "import pandas as pd\n",
    "import numpy as np\n",
    "import matplotlib.pyplot as plt\n",
    "from scipy.sparse import csc_matrix\n",
    "import seaborn as sns\n",
    "import random \n",
    "from surprise import accuracy,Reader,Dataset\n",
    "from surprise.accuracy import rmse\n",
    "from surprise import SVD,SVDpp,NMF,CoClustering,KNNBaseline,KNNWithZScore,KNNBasic,KNNWithMeans\n",
    "from surprise.model_selection import train_test_split,GridSearchCV"
   ]
  },
  {
   "cell_type": "code",
   "execution_count": 8,
   "id": "20193ff6",
   "metadata": {},
   "outputs": [],
   "source": [
    "data=pd.read_csv('ratings_electronics.csv',names=['user_id','product_id','rating','timestamp'])"
   ]
  },
  {
   "cell_type": "code",
   "execution_count": 9,
   "id": "8a1b0e4e",
   "metadata": {},
   "outputs": [
    {
     "data": {
      "text/html": [
       "<div>\n",
       "<style scoped>\n",
       "    .dataframe tbody tr th:only-of-type {\n",
       "        vertical-align: middle;\n",
       "    }\n",
       "\n",
       "    .dataframe tbody tr th {\n",
       "        vertical-align: top;\n",
       "    }\n",
       "\n",
       "    .dataframe thead th {\n",
       "        text-align: right;\n",
       "    }\n",
       "</style>\n",
       "<table border=\"1\" class=\"dataframe\">\n",
       "  <thead>\n",
       "    <tr style=\"text-align: right;\">\n",
       "      <th></th>\n",
       "      <th>user_id</th>\n",
       "      <th>product_id</th>\n",
       "      <th>rating</th>\n",
       "      <th>timestamp</th>\n",
       "    </tr>\n",
       "  </thead>\n",
       "  <tbody>\n",
       "    <tr>\n",
       "      <th>0</th>\n",
       "      <td>AKM1MP6P0OYPR</td>\n",
       "      <td>0132793040</td>\n",
       "      <td>5.0</td>\n",
       "      <td>1365811200</td>\n",
       "    </tr>\n",
       "    <tr>\n",
       "      <th>1</th>\n",
       "      <td>A2CX7LUOHB2NDG</td>\n",
       "      <td>0321732944</td>\n",
       "      <td>5.0</td>\n",
       "      <td>1341100800</td>\n",
       "    </tr>\n",
       "    <tr>\n",
       "      <th>2</th>\n",
       "      <td>A2NWSAGRHCP8N5</td>\n",
       "      <td>0439886341</td>\n",
       "      <td>1.0</td>\n",
       "      <td>1367193600</td>\n",
       "    </tr>\n",
       "    <tr>\n",
       "      <th>3</th>\n",
       "      <td>A2WNBOD3WNDNKT</td>\n",
       "      <td>0439886341</td>\n",
       "      <td>3.0</td>\n",
       "      <td>1374451200</td>\n",
       "    </tr>\n",
       "    <tr>\n",
       "      <th>4</th>\n",
       "      <td>A1GI0U4ZRJA8WN</td>\n",
       "      <td>0439886341</td>\n",
       "      <td>1.0</td>\n",
       "      <td>1334707200</td>\n",
       "    </tr>\n",
       "    <tr>\n",
       "      <th>...</th>\n",
       "      <td>...</td>\n",
       "      <td>...</td>\n",
       "      <td>...</td>\n",
       "      <td>...</td>\n",
       "    </tr>\n",
       "    <tr>\n",
       "      <th>7824477</th>\n",
       "      <td>A2YZI3C9MOHC0L</td>\n",
       "      <td>BT008UKTMW</td>\n",
       "      <td>5.0</td>\n",
       "      <td>1396569600</td>\n",
       "    </tr>\n",
       "    <tr>\n",
       "      <th>7824478</th>\n",
       "      <td>A322MDK0M89RHN</td>\n",
       "      <td>BT008UKTMW</td>\n",
       "      <td>5.0</td>\n",
       "      <td>1313366400</td>\n",
       "    </tr>\n",
       "    <tr>\n",
       "      <th>7824479</th>\n",
       "      <td>A1MH90R0ADMIK0</td>\n",
       "      <td>BT008UKTMW</td>\n",
       "      <td>4.0</td>\n",
       "      <td>1404172800</td>\n",
       "    </tr>\n",
       "    <tr>\n",
       "      <th>7824480</th>\n",
       "      <td>A10M2KEFPEQDHN</td>\n",
       "      <td>BT008UKTMW</td>\n",
       "      <td>4.0</td>\n",
       "      <td>1297555200</td>\n",
       "    </tr>\n",
       "    <tr>\n",
       "      <th>7824481</th>\n",
       "      <td>A2G81TMIOIDEQQ</td>\n",
       "      <td>BT008V9J9U</td>\n",
       "      <td>5.0</td>\n",
       "      <td>1312675200</td>\n",
       "    </tr>\n",
       "  </tbody>\n",
       "</table>\n",
       "<p>7824482 rows × 4 columns</p>\n",
       "</div>"
      ],
      "text/plain": [
       "                user_id  product_id  rating   timestamp\n",
       "0         AKM1MP6P0OYPR  0132793040     5.0  1365811200\n",
       "1        A2CX7LUOHB2NDG  0321732944     5.0  1341100800\n",
       "2        A2NWSAGRHCP8N5  0439886341     1.0  1367193600\n",
       "3        A2WNBOD3WNDNKT  0439886341     3.0  1374451200\n",
       "4        A1GI0U4ZRJA8WN  0439886341     1.0  1334707200\n",
       "...                 ...         ...     ...         ...\n",
       "7824477  A2YZI3C9MOHC0L  BT008UKTMW     5.0  1396569600\n",
       "7824478  A322MDK0M89RHN  BT008UKTMW     5.0  1313366400\n",
       "7824479  A1MH90R0ADMIK0  BT008UKTMW     4.0  1404172800\n",
       "7824480  A10M2KEFPEQDHN  BT008UKTMW     4.0  1297555200\n",
       "7824481  A2G81TMIOIDEQQ  BT008V9J9U     5.0  1312675200\n",
       "\n",
       "[7824482 rows x 4 columns]"
      ]
     },
     "execution_count": 9,
     "metadata": {},
     "output_type": "execute_result"
    }
   ],
   "source": [
    "data"
   ]
  },
  {
   "cell_type": "code",
   "execution_count": 10,
   "id": "7e1f3ed0",
   "metadata": {},
   "outputs": [],
   "source": [
    "del data['timestamp']"
   ]
  },
  {
   "cell_type": "code",
   "execution_count": 11,
   "id": "0517e172",
   "metadata": {},
   "outputs": [
    {
     "data": {
      "text/html": [
       "<div>\n",
       "<style scoped>\n",
       "    .dataframe tbody tr th:only-of-type {\n",
       "        vertical-align: middle;\n",
       "    }\n",
       "\n",
       "    .dataframe tbody tr th {\n",
       "        vertical-align: top;\n",
       "    }\n",
       "\n",
       "    .dataframe thead th {\n",
       "        text-align: right;\n",
       "    }\n",
       "</style>\n",
       "<table border=\"1\" class=\"dataframe\">\n",
       "  <thead>\n",
       "    <tr style=\"text-align: right;\">\n",
       "      <th></th>\n",
       "      <th>user_id</th>\n",
       "      <th>product_id</th>\n",
       "      <th>rating</th>\n",
       "    </tr>\n",
       "  </thead>\n",
       "  <tbody>\n",
       "    <tr>\n",
       "      <th>0</th>\n",
       "      <td>AKM1MP6P0OYPR</td>\n",
       "      <td>0132793040</td>\n",
       "      <td>5.0</td>\n",
       "    </tr>\n",
       "    <tr>\n",
       "      <th>1</th>\n",
       "      <td>A2CX7LUOHB2NDG</td>\n",
       "      <td>0321732944</td>\n",
       "      <td>5.0</td>\n",
       "    </tr>\n",
       "    <tr>\n",
       "      <th>2</th>\n",
       "      <td>A2NWSAGRHCP8N5</td>\n",
       "      <td>0439886341</td>\n",
       "      <td>1.0</td>\n",
       "    </tr>\n",
       "    <tr>\n",
       "      <th>3</th>\n",
       "      <td>A2WNBOD3WNDNKT</td>\n",
       "      <td>0439886341</td>\n",
       "      <td>3.0</td>\n",
       "    </tr>\n",
       "    <tr>\n",
       "      <th>4</th>\n",
       "      <td>A1GI0U4ZRJA8WN</td>\n",
       "      <td>0439886341</td>\n",
       "      <td>1.0</td>\n",
       "    </tr>\n",
       "    <tr>\n",
       "      <th>...</th>\n",
       "      <td>...</td>\n",
       "      <td>...</td>\n",
       "      <td>...</td>\n",
       "    </tr>\n",
       "    <tr>\n",
       "      <th>7824477</th>\n",
       "      <td>A2YZI3C9MOHC0L</td>\n",
       "      <td>BT008UKTMW</td>\n",
       "      <td>5.0</td>\n",
       "    </tr>\n",
       "    <tr>\n",
       "      <th>7824478</th>\n",
       "      <td>A322MDK0M89RHN</td>\n",
       "      <td>BT008UKTMW</td>\n",
       "      <td>5.0</td>\n",
       "    </tr>\n",
       "    <tr>\n",
       "      <th>7824479</th>\n",
       "      <td>A1MH90R0ADMIK0</td>\n",
       "      <td>BT008UKTMW</td>\n",
       "      <td>4.0</td>\n",
       "    </tr>\n",
       "    <tr>\n",
       "      <th>7824480</th>\n",
       "      <td>A10M2KEFPEQDHN</td>\n",
       "      <td>BT008UKTMW</td>\n",
       "      <td>4.0</td>\n",
       "    </tr>\n",
       "    <tr>\n",
       "      <th>7824481</th>\n",
       "      <td>A2G81TMIOIDEQQ</td>\n",
       "      <td>BT008V9J9U</td>\n",
       "      <td>5.0</td>\n",
       "    </tr>\n",
       "  </tbody>\n",
       "</table>\n",
       "<p>7824482 rows × 3 columns</p>\n",
       "</div>"
      ],
      "text/plain": [
       "                user_id  product_id  rating\n",
       "0         AKM1MP6P0OYPR  0132793040     5.0\n",
       "1        A2CX7LUOHB2NDG  0321732944     5.0\n",
       "2        A2NWSAGRHCP8N5  0439886341     1.0\n",
       "3        A2WNBOD3WNDNKT  0439886341     3.0\n",
       "4        A1GI0U4ZRJA8WN  0439886341     1.0\n",
       "...                 ...         ...     ...\n",
       "7824477  A2YZI3C9MOHC0L  BT008UKTMW     5.0\n",
       "7824478  A322MDK0M89RHN  BT008UKTMW     5.0\n",
       "7824479  A1MH90R0ADMIK0  BT008UKTMW     4.0\n",
       "7824480  A10M2KEFPEQDHN  BT008UKTMW     4.0\n",
       "7824481  A2G81TMIOIDEQQ  BT008V9J9U     5.0\n",
       "\n",
       "[7824482 rows x 3 columns]"
      ]
     },
     "execution_count": 11,
     "metadata": {},
     "output_type": "execute_result"
    }
   ],
   "source": [
    "data"
   ]
  },
  {
   "cell_type": "code",
   "execution_count": 12,
   "id": "bad84d55",
   "metadata": {},
   "outputs": [
    {
     "data": {
      "text/html": [
       "<div>\n",
       "<style scoped>\n",
       "    .dataframe tbody tr th:only-of-type {\n",
       "        vertical-align: middle;\n",
       "    }\n",
       "\n",
       "    .dataframe tbody tr th {\n",
       "        vertical-align: top;\n",
       "    }\n",
       "\n",
       "    .dataframe thead th {\n",
       "        text-align: right;\n",
       "    }\n",
       "</style>\n",
       "<table border=\"1\" class=\"dataframe\">\n",
       "  <thead>\n",
       "    <tr style=\"text-align: right;\">\n",
       "      <th></th>\n",
       "      <th>rating</th>\n",
       "    </tr>\n",
       "  </thead>\n",
       "  <tbody>\n",
       "    <tr>\n",
       "      <th>count</th>\n",
       "      <td>7.824482e+06</td>\n",
       "    </tr>\n",
       "    <tr>\n",
       "      <th>mean</th>\n",
       "      <td>4.012337e+00</td>\n",
       "    </tr>\n",
       "    <tr>\n",
       "      <th>std</th>\n",
       "      <td>1.380910e+00</td>\n",
       "    </tr>\n",
       "    <tr>\n",
       "      <th>min</th>\n",
       "      <td>1.000000e+00</td>\n",
       "    </tr>\n",
       "    <tr>\n",
       "      <th>25%</th>\n",
       "      <td>3.000000e+00</td>\n",
       "    </tr>\n",
       "    <tr>\n",
       "      <th>50%</th>\n",
       "      <td>5.000000e+00</td>\n",
       "    </tr>\n",
       "    <tr>\n",
       "      <th>75%</th>\n",
       "      <td>5.000000e+00</td>\n",
       "    </tr>\n",
       "    <tr>\n",
       "      <th>max</th>\n",
       "      <td>5.000000e+00</td>\n",
       "    </tr>\n",
       "  </tbody>\n",
       "</table>\n",
       "</div>"
      ],
      "text/plain": [
       "             rating\n",
       "count  7.824482e+06\n",
       "mean   4.012337e+00\n",
       "std    1.380910e+00\n",
       "min    1.000000e+00\n",
       "25%    3.000000e+00\n",
       "50%    5.000000e+00\n",
       "75%    5.000000e+00\n",
       "max    5.000000e+00"
      ]
     },
     "execution_count": 12,
     "metadata": {},
     "output_type": "execute_result"
    }
   ],
   "source": [
    "data.describe()"
   ]
  },
  {
   "cell_type": "markdown",
   "id": "17303f55",
   "metadata": {},
   "source": [
    "1. Explore the data set and answer the following questions\n",
    "\n",
    "    (a) How many unique users/products are there?"
   ]
  },
  {
   "cell_type": "code",
   "execution_count": 13,
   "id": "6eced175",
   "metadata": {},
   "outputs": [
    {
     "data": {
      "text/plain": [
       "4201696"
      ]
     },
     "execution_count": 13,
     "metadata": {},
     "output_type": "execute_result"
    }
   ],
   "source": [
    "len(data.user_id.unique())"
   ]
  },
  {
   "cell_type": "code",
   "execution_count": 14,
   "id": "44202698",
   "metadata": {},
   "outputs": [
    {
     "data": {
      "text/plain": [
       "476002"
      ]
     },
     "execution_count": 14,
     "metadata": {},
     "output_type": "execute_result"
    }
   ],
   "source": [
    "len(data.product_id.unique())"
   ]
  },
  {
   "cell_type": "code",
   "execution_count": 15,
   "id": "45ddd1a1",
   "metadata": {},
   "outputs": [
    {
     "data": {
      "text/plain": [
       "array([5., 1., 3., 2., 4.])"
      ]
     },
     "execution_count": 15,
     "metadata": {},
     "output_type": "execute_result"
    }
   ],
   "source": [
    "data.rating.unique()"
   ]
  },
  {
   "cell_type": "markdown",
   "id": "d109d4ae",
   "metadata": {},
   "source": [
    "(b) What is the distribution of the ratings? (display an histogram)."
   ]
  },
  {
   "cell_type": "code",
   "execution_count": 16,
   "id": "e14dc763",
   "metadata": {},
   "outputs": [],
   "source": [
    "counts=data.rating.value_counts()"
   ]
  },
  {
   "cell_type": "code",
   "execution_count": 17,
   "id": "70a5db01",
   "metadata": {},
   "outputs": [
    {
     "data": {
      "image/png": "[encoded data removed]",
      "text/plain": [
       "<Figure size 432x288 with 1 Axes>"
      ]
     },
     "metadata": {
      "needs_background": "light"
     },
     "output_type": "display_data"
    }
   ],
   "source": [
    "plt.xlabel('Rating')\n",
    "plt.ylabel('Count')\n",
    "plt.bar(data.rating.unique(),counts)\n",
    "plt.title('Rating Histogram')\n",
    "plt.show()"
   ]
  },
  {
   "cell_type": "code",
   "execution_count": 18,
   "id": "4e06e31c",
   "metadata": {},
   "outputs": [],
   "source": [
    "product_ratings=data.groupby(by='product_id')['rating'].mean().sort_values(ascending=False)"
   ]
  },
  {
   "cell_type": "code",
   "execution_count": 19,
   "id": "51307782",
   "metadata": {},
   "outputs": [
    {
     "data": {
      "text/plain": [
       "product_id\n",
       "0132793040    5.0\n",
       "B004SGH244    5.0\n",
       "B004SQBRRM    5.0\n",
       "B004SQC6O0    5.0\n",
       "B004SQE6YI    5.0\n",
       "             ... \n",
       "B0001FC5IE    1.0\n",
       "B00465T6KK    1.0\n",
       "B001W1X0LW    1.0\n",
       "B0069ZWXLE    1.0\n",
       "B000TFNDKK    1.0\n",
       "Name: rating, Length: 476002, dtype: float64"
      ]
     },
     "execution_count": 19,
     "metadata": {},
     "output_type": "execute_result"
    }
   ],
   "source": [
    "product_ratings"
   ]
  },
  {
   "cell_type": "markdown",
   "id": "f20e7cc7",
   "metadata": {},
   "source": [
    "(c) What is the mean number of ratings per user?"
   ]
  },
  {
   "cell_type": "code",
   "execution_count": 20,
   "id": "06bf663a",
   "metadata": {},
   "outputs": [],
   "source": [
    "rating_per_user = data.groupby(by='user_id')['rating'].count().sort_values(ascending=False)"
   ]
  },
  {
   "cell_type": "code",
   "execution_count": 21,
   "id": "3739d284",
   "metadata": {},
   "outputs": [
    {
     "data": {
      "text/plain": [
       "user_id\n",
       "A5JLAU2ARJ0BO     520\n",
       "ADLVFFE4VBT8      501\n",
       "A3OXHLG6DIBRW8    498\n",
       "A6FIAB28IS79      431\n",
       "A680RUE1FDO8B     406\n",
       "                 ... \n",
       "A2HRB8UOXH92SQ      1\n",
       "A2HRBA4HO2E4GU      1\n",
       "A2HRBCM00IDK56      1\n",
       "A2HRBEBDTIB8MT      1\n",
       "AZZZY1W55XHZR       1\n",
       "Name: rating, Length: 4201696, dtype: int64"
      ]
     },
     "execution_count": 21,
     "metadata": {},
     "output_type": "execute_result"
    }
   ],
   "source": [
    "rating_per_user"
   ]
  },
  {
   "cell_type": "markdown",
   "id": "afb0603e",
   "metadata": {},
   "source": [
    "(d) What are the 20 most popular items (items that have received the highest number\n",
    "of ratings)?"
   ]
  },
  {
   "cell_type": "code",
   "execution_count": 22,
   "id": "38bdbda0",
   "metadata": {},
   "outputs": [],
   "source": [
    "product_ratings_count=data.groupby(by='product_id')['rating'].count().sort_values(ascending=False)[:20]"
   ]
  },
  {
   "cell_type": "code",
   "execution_count": 23,
   "id": "4b1e63d7",
   "metadata": {},
   "outputs": [
    {
     "data": {
      "text/plain": [
       "product_id\n",
       "B0074BW614    18244\n",
       "B00DR0PDNE    16454\n",
       "B007WTAJTO    14172\n",
       "B0019EHU8G    12285\n",
       "B006GWO5WK    12226\n",
       "B003ELYQGG    11617\n",
       "B003ES5ZUU    10276\n",
       "B007R5YDYA     9907\n",
       "B00622AG6S     9823\n",
       "B0002L5R78     9487\n",
       "B008OHNZI0     8966\n",
       "B003LR7ME6     8840\n",
       "B000LRMS66     8715\n",
       "B009SYZ8OC     8370\n",
       "B00BGA9WK2     7561\n",
       "B004QK7HI8     7060\n",
       "B009A5204K     7059\n",
       "B00BGGDVOO     6893\n",
       "B0098F5W0Q     6616\n",
       "B002MAPRYU     6599\n",
       "Name: rating, dtype: int64"
      ]
     },
     "execution_count": 23,
     "metadata": {},
     "output_type": "execute_result"
    }
   ],
   "source": [
    "product_ratings_count[:20]"
   ]
  },
  {
   "cell_type": "markdown",
   "id": "4dfac8b1",
   "metadata": {},
   "source": [
    "2. Build an item-item CF recommendation system for this dataset. To reduce the computational cost, select only the first 25,000 products in the dataset (75% of these can be used for training and 25% for testing)."
   ]
  },
  {
   "cell_type": "code",
   "execution_count": 24,
   "id": "ce94376c",
   "metadata": {},
   "outputs": [],
   "source": [
    "data = data.groupby(\"product_id\").filter(lambda x: x['rating'].count() >= 1000)"
   ]
  },
  {
   "cell_type": "code",
   "execution_count": 25,
   "id": "e6c6ac78",
   "metadata": {},
   "outputs": [
    {
     "data": {
      "text/html": [
       "<div>\n",
       "<style scoped>\n",
       "    .dataframe tbody tr th:only-of-type {\n",
       "        vertical-align: middle;\n",
       "    }\n",
       "\n",
       "    .dataframe tbody tr th {\n",
       "        vertical-align: top;\n",
       "    }\n",
       "\n",
       "    .dataframe thead th {\n",
       "        text-align: right;\n",
       "    }\n",
       "</style>\n",
       "<table border=\"1\" class=\"dataframe\">\n",
       "  <thead>\n",
       "    <tr style=\"text-align: right;\">\n",
       "      <th></th>\n",
       "      <th>user_id</th>\n",
       "      <th>product_id</th>\n",
       "      <th>rating</th>\n",
       "    </tr>\n",
       "  </thead>\n",
       "  <tbody>\n",
       "    <tr>\n",
       "      <th>183</th>\n",
       "      <td>A1BKC6B7YHYTVV</td>\n",
       "      <td>0972683275</td>\n",
       "      <td>4.0</td>\n",
       "    </tr>\n",
       "    <tr>\n",
       "      <th>184</th>\n",
       "      <td>AWVFSIB42LHKJ</td>\n",
       "      <td>0972683275</td>\n",
       "      <td>4.0</td>\n",
       "    </tr>\n",
       "    <tr>\n",
       "      <th>185</th>\n",
       "      <td>A36MQBNADRH8YY</td>\n",
       "      <td>0972683275</td>\n",
       "      <td>5.0</td>\n",
       "    </tr>\n",
       "    <tr>\n",
       "      <th>186</th>\n",
       "      <td>A3SRXMPLAEZ6DP</td>\n",
       "      <td>0972683275</td>\n",
       "      <td>4.0</td>\n",
       "    </tr>\n",
       "    <tr>\n",
       "      <th>187</th>\n",
       "      <td>A20XXTXWF2TCPY</td>\n",
       "      <td>0972683275</td>\n",
       "      <td>5.0</td>\n",
       "    </tr>\n",
       "    <tr>\n",
       "      <th>...</th>\n",
       "      <td>...</td>\n",
       "      <td>...</td>\n",
       "      <td>...</td>\n",
       "    </tr>\n",
       "    <tr>\n",
       "      <th>7795930</th>\n",
       "      <td>A10RNLKWIBRJCP</td>\n",
       "      <td>B00INNP5VU</td>\n",
       "      <td>4.0</td>\n",
       "    </tr>\n",
       "    <tr>\n",
       "      <th>7795931</th>\n",
       "      <td>A11JU7PR7NTBX0</td>\n",
       "      <td>B00INNP5VU</td>\n",
       "      <td>5.0</td>\n",
       "    </tr>\n",
       "    <tr>\n",
       "      <th>7795932</th>\n",
       "      <td>A1YAXKN1E9QU07</td>\n",
       "      <td>B00INNP5VU</td>\n",
       "      <td>5.0</td>\n",
       "    </tr>\n",
       "    <tr>\n",
       "      <th>7795933</th>\n",
       "      <td>A1FVQ84B5M1NNA</td>\n",
       "      <td>B00INNP5VU</td>\n",
       "      <td>3.0</td>\n",
       "    </tr>\n",
       "    <tr>\n",
       "      <th>7795934</th>\n",
       "      <td>AOWDSBQ9HOAUW</td>\n",
       "      <td>B00INNP5VU</td>\n",
       "      <td>4.0</td>\n",
       "    </tr>\n",
       "  </tbody>\n",
       "</table>\n",
       "<p>1379717 rows × 3 columns</p>\n",
       "</div>"
      ],
      "text/plain": [
       "                user_id  product_id  rating\n",
       "183      A1BKC6B7YHYTVV  0972683275     4.0\n",
       "184       AWVFSIB42LHKJ  0972683275     4.0\n",
       "185      A36MQBNADRH8YY  0972683275     5.0\n",
       "186      A3SRXMPLAEZ6DP  0972683275     4.0\n",
       "187      A20XXTXWF2TCPY  0972683275     5.0\n",
       "...                 ...         ...     ...\n",
       "7795930  A10RNLKWIBRJCP  B00INNP5VU     4.0\n",
       "7795931  A11JU7PR7NTBX0  B00INNP5VU     5.0\n",
       "7795932  A1YAXKN1E9QU07  B00INNP5VU     5.0\n",
       "7795933  A1FVQ84B5M1NNA  B00INNP5VU     3.0\n",
       "7795934   AOWDSBQ9HOAUW  B00INNP5VU     4.0\n",
       "\n",
       "[1379717 rows x 3 columns]"
      ]
     },
     "execution_count": 25,
     "metadata": {},
     "output_type": "execute_result"
    }
   ],
   "source": [
    "data"
   ]
  },
  {
   "cell_type": "code",
   "execution_count": 26,
   "id": "9544d144",
   "metadata": {},
   "outputs": [],
   "source": [
    "reader = Reader(rating_scale = (1, 5))"
   ]
  },
  {
   "cell_type": "code",
   "execution_count": 27,
   "id": "4fef3b36",
   "metadata": {},
   "outputs": [],
   "source": [
    "data = Dataset.load_from_df(data[['user_id', 'product_id', 'rating']], reader = reader)"
   ]
  },
  {
   "cell_type": "code",
   "execution_count": 101,
   "id": "409d14a7",
   "metadata": {},
   "outputs": [],
   "source": [
    "trainset, testset = train_test_split(data, test_size = 0.25)"
   ]
  },
  {
   "cell_type": "markdown",
   "id": "6a2093b2",
   "metadata": {},
   "source": [
    "Try various recommendation algorithms and tune their hyperparameters."
   ]
  },
  {
   "cell_type": "code",
   "execution_count": 29,
   "id": "ea5aa14e",
   "metadata": {},
   "outputs": [],
   "source": [
    "sim_options = {\n",
    "    'name': ['msd', 'cosine'],\n",
    "    'min_support': [1, 5, 10],\n",
    "    'user_based': [False]\n",
    "}\n"
   ]
  },
  {
   "cell_type": "code",
   "execution_count": 30,
   "id": "eea8063f",
   "metadata": {},
   "outputs": [],
   "source": [
    "param_grid = {\n",
    "    'sim_options': sim_options,\n",
    "    'k': [10, 30, 50, 100]\n",
    "}"
   ]
  },
  {
   "cell_type": "code",
   "execution_count": 31,
   "id": "50d78af9",
   "metadata": {
    "scrolled": true
   },
   "outputs": [
    {
     "name": "stdout",
     "output_type": "stream",
     "text": [
      "Algorithm: KNNWithMeans\n",
      "Computing the msd similarity matrix...\n",
      "Done computing similarity matrix.\n",
      "Computing the msd similarity matrix...\n",
      "Done computing similarity matrix.\n",
      "Computing the msd similarity matrix...\n",
      "Done computing similarity matrix.\n",
      "Computing the msd similarity matrix...\n",
      "Done computing similarity matrix.\n",
      "Computing the msd similarity matrix...\n",
      "Done computing similarity matrix.\n",
      "Computing the msd similarity matrix...\n",
      "Done computing similarity matrix.\n",
      "Computing the msd similarity matrix...\n",
      "Done computing similarity matrix.\n",
      "Computing the msd similarity matrix...\n",
      "Done computing similarity matrix.\n",
      "Computing the msd similarity matrix...\n",
      "Done computing similarity matrix.\n",
      "Computing the msd similarity matrix...\n",
      "Done computing similarity matrix.\n",
      "Computing the msd similarity matrix...\n",
      "Done computing similarity matrix.\n",
      "Computing the msd similarity matrix...\n",
      "Done computing similarity matrix.\n",
      "Computing the msd similarity matrix...\n",
      "Done computing similarity matrix.\n",
      "Computing the msd similarity matrix...\n",
      "Done computing similarity matrix.\n",
      "Computing the msd similarity matrix...\n",
      "Done computing similarity matrix.\n",
      "Computing the msd similarity matrix...\n",
      "Done computing similarity matrix.\n",
      "Computing the msd similarity matrix...\n",
      "Done computing similarity matrix.\n",
      "Computing the msd similarity matrix...\n",
      "Done computing similarity matrix.\n",
      "Computing the msd similarity matrix...\n",
      "Done computing similarity matrix.\n",
      "Computing the msd similarity matrix...\n",
      "Done computing similarity matrix.\n",
      "Computing the msd similarity matrix...\n",
      "Done computing similarity matrix.\n",
      "Computing the msd similarity matrix...\n",
      "Done computing similarity matrix.\n",
      "Computing the msd similarity matrix...\n",
      "Done computing similarity matrix.\n",
      "Computing the msd similarity matrix...\n",
      "Done computing similarity matrix.\n",
      "Computing the msd similarity matrix...\n",
      "Done computing similarity matrix.\n",
      "Computing the msd similarity matrix...\n",
      "Done computing similarity matrix.\n",
      "Computing the msd similarity matrix...\n",
      "Done computing similarity matrix.\n",
      "Computing the msd similarity matrix...\n",
      "Done computing similarity matrix.\n",
      "Computing the msd similarity matrix...\n",
      "Done computing similarity matrix.\n",
      "Computing the msd similarity matrix...\n",
      "Done computing similarity matrix.\n",
      "Computing the msd similarity matrix...\n",
      "Done computing similarity matrix.\n",
      "Computing the msd similarity matrix...\n",
      "Done computing similarity matrix.\n",
      "Computing the msd similarity matrix...\n",
      "Done computing similarity matrix.\n",
      "Computing the msd similarity matrix...\n",
      "Done computing similarity matrix.\n",
      "Computing the msd similarity matrix...\n",
      "Done computing similarity matrix.\n",
      "Computing the msd similarity matrix...\n",
      "Done computing similarity matrix.\n",
      "Computing the cosine similarity matrix...\n",
      "Done computing similarity matrix.\n",
      "Computing the cosine similarity matrix...\n",
      "Done computing similarity matrix.\n",
      "Computing the cosine similarity matrix...\n",
      "Done computing similarity matrix.\n",
      "Computing the cosine similarity matrix...\n",
      "Done computing similarity matrix.\n",
      "Computing the cosine similarity matrix...\n",
      "Done computing similarity matrix.\n",
      "Computing the cosine similarity matrix...\n",
      "Done computing similarity matrix.\n",
      "Computing the cosine similarity matrix...\n",
      "Done computing similarity matrix.\n",
      "Computing the cosine similarity matrix...\n",
      "Done computing similarity matrix.\n",
      "Computing the cosine similarity matrix...\n",
      "Done computing similarity matrix.\n",
      "Computing the cosine similarity matrix...\n",
      "Done computing similarity matrix.\n",
      "Computing the cosine similarity matrix...\n",
      "Done computing similarity matrix.\n",
      "Computing the cosine similarity matrix...\n",
      "Done computing similarity matrix.\n",
      "Computing the cosine similarity matrix...\n",
      "Done computing similarity matrix.\n",
      "Computing the cosine similarity matrix...\n",
      "Done computing similarity matrix.\n",
      "Computing the cosine similarity matrix...\n",
      "Done computing similarity matrix.\n",
      "Computing the cosine similarity matrix...\n",
      "Done computing similarity matrix.\n",
      "Computing the cosine similarity matrix...\n",
      "Done computing similarity matrix.\n",
      "Computing the cosine similarity matrix...\n",
      "Done computing similarity matrix.\n",
      "Computing the cosine similarity matrix...\n",
      "Done computing similarity matrix.\n",
      "Computing the cosine similarity matrix...\n",
      "Done computing similarity matrix.\n",
      "Computing the cosine similarity matrix...\n",
      "Done computing similarity matrix.\n",
      "Computing the cosine similarity matrix...\n",
      "Done computing similarity matrix.\n",
      "Computing the cosine similarity matrix...\n",
      "Done computing similarity matrix.\n",
      "Computing the cosine similarity matrix...\n",
      "Done computing similarity matrix.\n",
      "Computing the cosine similarity matrix...\n",
      "Done computing similarity matrix.\n",
      "Computing the cosine similarity matrix...\n",
      "Done computing similarity matrix.\n",
      "Computing the cosine similarity matrix...\n",
      "Done computing similarity matrix.\n",
      "Computing the cosine similarity matrix...\n",
      "Done computing similarity matrix.\n",
      "Computing the cosine similarity matrix...\n",
      "Done computing similarity matrix.\n",
      "Computing the cosine similarity matrix...\n",
      "Done computing similarity matrix.\n",
      "Computing the cosine similarity matrix...\n",
      "Done computing similarity matrix.\n",
      "Computing the cosine similarity matrix...\n",
      "Done computing similarity matrix.\n",
      "Computing the cosine similarity matrix...\n",
      "Done computing similarity matrix.\n",
      "Computing the cosine similarity matrix...\n",
      "Done computing similarity matrix.\n",
      "Computing the cosine similarity matrix...\n",
      "Done computing similarity matrix.\n",
      "Computing the cosine similarity matrix...\n",
      "Done computing similarity matrix.\n"
     ]
    }
   ],
   "source": [
    "print('Algorithm: KNNWithMeans')\n",
    "    \n",
    "KNNWithMeans_gs = GridSearchCV(KNNWithMeans, param_grid, measures = ['rmse', 'mae'], cv = 3)    \n",
    "KNNWithMeans_gs.fit(data)    "
   ]
  },
  {
   "cell_type": "code",
   "execution_count": 32,
   "id": "4050bc5a",
   "metadata": {},
   "outputs": [
    {
     "data": {
      "text/plain": [
       "1.2486812106055478"
      ]
     },
     "execution_count": 32,
     "metadata": {},
     "output_type": "execute_result"
    }
   ],
   "source": [
    "# Get best RMSE score and params\n",
    "KNNWithMeans_gs.best_score['rmse']"
   ]
  },
  {
   "cell_type": "code",
   "execution_count": 33,
   "id": "1192a9f9",
   "metadata": {},
   "outputs": [
    {
     "data": {
      "text/plain": [
       "{'sim_options': {'name': 'cosine', 'min_support': 10, 'user_based': False},\n",
       " 'k': 10}"
      ]
     },
     "execution_count": 33,
     "metadata": {},
     "output_type": "execute_result"
    }
   ],
   "source": [
    "KNNWithMeans_gs.best_params['rmse']"
   ]
  },
  {
   "cell_type": "code",
   "execution_count": 34,
   "id": "1b1effb8",
   "metadata": {},
   "outputs": [
    {
     "name": "stdout",
     "output_type": "stream",
     "text": [
      "Computing the cosine similarity matrix...\n",
      "Done computing similarity matrix.\n",
      "RMSE: 0.2021\n"
     ]
    },
    {
     "data": {
      "text/plain": [
       "0.2020683142688204"
      ]
     },
     "execution_count": 34,
     "metadata": {},
     "output_type": "execute_result"
    }
   ],
   "source": [
    "KNNWithMeans_gs_algo = KNNWithMeans_gs.best_estimator['rmse']       \n",
    "# Get test RMSE score for obtained algorithm parameters \n",
    "KNNWithMeans_gs_algo.fit(trainset)\n",
    "testset_new = trainset.build_testset()\n",
    "KNNWithMeans_predictions = KNNWithMeans_gs_algo.test(testset_new)\n",
    "rmse(KNNWithMeans_predictions)"
   ]
  },
  {
   "cell_type": "code",
   "execution_count": 35,
   "id": "08fc3f2a",
   "metadata": {},
   "outputs": [
    {
     "name": "stdout",
     "output_type": "stream",
     "text": [
      "RMSE: 1.2522\n"
     ]
    },
    {
     "data": {
      "text/plain": [
       "1.2522451382100435"
      ]
     },
     "execution_count": 35,
     "metadata": {},
     "output_type": "execute_result"
    }
   ],
   "source": [
    "KNNWithMeans_predictions = KNNWithMeans_gs_algo.test(testset)\n",
    "rmse(KNNWithMeans_predictions)"
   ]
  },
  {
   "cell_type": "code",
   "execution_count": 36,
   "id": "7720868d",
   "metadata": {
    "scrolled": true
   },
   "outputs": [
    {
     "name": "stdout",
     "output_type": "stream",
     "text": [
      "Algorithm: KNNBasic\n",
      "Computing the msd similarity matrix...\n",
      "Done computing similarity matrix.\n",
      "Computing the msd similarity matrix...\n",
      "Done computing similarity matrix.\n",
      "Computing the msd similarity matrix...\n",
      "Done computing similarity matrix.\n",
      "Computing the msd similarity matrix...\n",
      "Done computing similarity matrix.\n",
      "Computing the msd similarity matrix...\n",
      "Done computing similarity matrix.\n",
      "Computing the msd similarity matrix...\n",
      "Done computing similarity matrix.\n",
      "Computing the msd similarity matrix...\n",
      "Done computing similarity matrix.\n",
      "Computing the msd similarity matrix...\n",
      "Done computing similarity matrix.\n",
      "Computing the msd similarity matrix...\n",
      "Done computing similarity matrix.\n",
      "Computing the msd similarity matrix...\n",
      "Done computing similarity matrix.\n",
      "Computing the msd similarity matrix...\n",
      "Done computing similarity matrix.\n",
      "Computing the msd similarity matrix...\n",
      "Done computing similarity matrix.\n",
      "Computing the msd similarity matrix...\n",
      "Done computing similarity matrix.\n",
      "Computing the msd similarity matrix...\n",
      "Done computing similarity matrix.\n",
      "Computing the msd similarity matrix...\n",
      "Done computing similarity matrix.\n",
      "Computing the msd similarity matrix...\n",
      "Done computing similarity matrix.\n",
      "Computing the msd similarity matrix...\n",
      "Done computing similarity matrix.\n",
      "Computing the msd similarity matrix...\n",
      "Done computing similarity matrix.\n",
      "Computing the msd similarity matrix...\n",
      "Done computing similarity matrix.\n",
      "Computing the msd similarity matrix...\n",
      "Done computing similarity matrix.\n",
      "Computing the msd similarity matrix...\n",
      "Done computing similarity matrix.\n",
      "Computing the msd similarity matrix...\n",
      "Done computing similarity matrix.\n",
      "Computing the msd similarity matrix...\n",
      "Done computing similarity matrix.\n",
      "Computing the msd similarity matrix...\n",
      "Done computing similarity matrix.\n",
      "Computing the msd similarity matrix...\n",
      "Done computing similarity matrix.\n",
      "Computing the msd similarity matrix...\n",
      "Done computing similarity matrix.\n",
      "Computing the msd similarity matrix...\n",
      "Done computing similarity matrix.\n",
      "Computing the msd similarity matrix...\n",
      "Done computing similarity matrix.\n",
      "Computing the msd similarity matrix...\n",
      "Done computing similarity matrix.\n",
      "Computing the msd similarity matrix...\n",
      "Done computing similarity matrix.\n",
      "Computing the msd similarity matrix...\n",
      "Done computing similarity matrix.\n",
      "Computing the msd similarity matrix...\n",
      "Done computing similarity matrix.\n",
      "Computing the msd similarity matrix...\n",
      "Done computing similarity matrix.\n",
      "Computing the msd similarity matrix...\n",
      "Done computing similarity matrix.\n",
      "Computing the msd similarity matrix...\n",
      "Done computing similarity matrix.\n",
      "Computing the msd similarity matrix...\n",
      "Done computing similarity matrix.\n",
      "Computing the cosine similarity matrix...\n",
      "Done computing similarity matrix.\n",
      "Computing the cosine similarity matrix...\n",
      "Done computing similarity matrix.\n",
      "Computing the cosine similarity matrix...\n",
      "Done computing similarity matrix.\n",
      "Computing the cosine similarity matrix...\n",
      "Done computing similarity matrix.\n",
      "Computing the cosine similarity matrix...\n",
      "Done computing similarity matrix.\n",
      "Computing the cosine similarity matrix...\n",
      "Done computing similarity matrix.\n",
      "Computing the cosine similarity matrix...\n",
      "Done computing similarity matrix.\n",
      "Computing the cosine similarity matrix...\n",
      "Done computing similarity matrix.\n",
      "Computing the cosine similarity matrix...\n",
      "Done computing similarity matrix.\n",
      "Computing the cosine similarity matrix...\n",
      "Done computing similarity matrix.\n",
      "Computing the cosine similarity matrix...\n",
      "Done computing similarity matrix.\n",
      "Computing the cosine similarity matrix...\n",
      "Done computing similarity matrix.\n",
      "Computing the cosine similarity matrix...\n",
      "Done computing similarity matrix.\n",
      "Computing the cosine similarity matrix...\n",
      "Done computing similarity matrix.\n",
      "Computing the cosine similarity matrix...\n",
      "Done computing similarity matrix.\n",
      "Computing the cosine similarity matrix...\n",
      "Done computing similarity matrix.\n",
      "Computing the cosine similarity matrix...\n",
      "Done computing similarity matrix.\n",
      "Computing the cosine similarity matrix...\n",
      "Done computing similarity matrix.\n",
      "Computing the cosine similarity matrix...\n",
      "Done computing similarity matrix.\n",
      "Computing the cosine similarity matrix...\n",
      "Done computing similarity matrix.\n",
      "Computing the cosine similarity matrix...\n",
      "Done computing similarity matrix.\n",
      "Computing the cosine similarity matrix...\n",
      "Done computing similarity matrix.\n",
      "Computing the cosine similarity matrix...\n",
      "Done computing similarity matrix.\n",
      "Computing the cosine similarity matrix...\n",
      "Done computing similarity matrix.\n",
      "Computing the cosine similarity matrix...\n",
      "Done computing similarity matrix.\n",
      "Computing the cosine similarity matrix...\n",
      "Done computing similarity matrix.\n",
      "Computing the cosine similarity matrix...\n",
      "Done computing similarity matrix.\n",
      "Computing the cosine similarity matrix...\n",
      "Done computing similarity matrix.\n",
      "Computing the cosine similarity matrix...\n",
      "Done computing similarity matrix.\n",
      "Computing the cosine similarity matrix...\n",
      "Done computing similarity matrix.\n",
      "Computing the cosine similarity matrix...\n",
      "Done computing similarity matrix.\n",
      "Computing the cosine similarity matrix...\n",
      "Done computing similarity matrix.\n",
      "Computing the cosine similarity matrix...\n",
      "Done computing similarity matrix.\n",
      "Computing the cosine similarity matrix...\n",
      "Done computing similarity matrix.\n",
      "Computing the cosine similarity matrix...\n",
      "Done computing similarity matrix.\n",
      "Computing the cosine similarity matrix...\n",
      "Done computing similarity matrix.\n"
     ]
    }
   ],
   "source": [
    "print('Algorithm: KNNBasic')\n",
    "\n",
    "KNNBasic_gs = GridSearchCV(KNNBasic, param_grid, measures = ['rmse', 'mae'], cv = 3)    \n",
    "KNNBasic_gs.fit(data)    "
   ]
  },
  {
   "cell_type": "code",
   "execution_count": 37,
   "id": "43c92081",
   "metadata": {},
   "outputs": [
    {
     "data": {
      "text/plain": [
       "1.2599618374498232"
      ]
     },
     "execution_count": 37,
     "metadata": {},
     "output_type": "execute_result"
    }
   ],
   "source": [
    "# Get best RMSE score and params\n",
    "KNNBasic_gs.best_score['rmse']"
   ]
  },
  {
   "cell_type": "code",
   "execution_count": 38,
   "id": "5c38b711",
   "metadata": {},
   "outputs": [
    {
     "data": {
      "text/plain": [
       "{'sim_options': {'name': 'msd', 'min_support': 10, 'user_based': False},\n",
       " 'k': 10}"
      ]
     },
     "execution_count": 38,
     "metadata": {},
     "output_type": "execute_result"
    }
   ],
   "source": [
    "KNNBasic_gs.best_params['rmse']"
   ]
  },
  {
   "cell_type": "code",
   "execution_count": 39,
   "id": "6ff4787c",
   "metadata": {},
   "outputs": [
    {
     "name": "stdout",
     "output_type": "stream",
     "text": [
      "Computing the msd similarity matrix...\n",
      "Done computing similarity matrix.\n",
      "RMSE: 0.1197\n"
     ]
    },
    {
     "data": {
      "text/plain": [
       "0.11972325096318936"
      ]
     },
     "execution_count": 39,
     "metadata": {},
     "output_type": "execute_result"
    }
   ],
   "source": [
    "KNNBasic_gs_algo = KNNBasic_gs.best_estimator['rmse']       \n",
    "# Get test RMSE score for obtained algorithm parameters \n",
    "KNNBasic_gs_algo.fit(trainset)\n",
    "testset_new = trainset.build_testset()\n",
    "KNNBasic_predictions = KNNBasic_gs_algo.test(testset_new)\n",
    "rmse(KNNBasic_predictions)"
   ]
  },
  {
   "cell_type": "code",
   "execution_count": 40,
   "id": "8bf773d5",
   "metadata": {},
   "outputs": [
    {
     "name": "stdout",
     "output_type": "stream",
     "text": [
      "RMSE: 1.2644\n"
     ]
    },
    {
     "data": {
      "text/plain": [
       "1.2644319814119982"
      ]
     },
     "execution_count": 40,
     "metadata": {},
     "output_type": "execute_result"
    }
   ],
   "source": [
    "KNNBasic_predictions = KNNBasic_gs_algo.test(testset)\n",
    "rmse(KNNBasic_predictions)"
   ]
  },
  {
   "cell_type": "code",
   "execution_count": 41,
   "id": "5eb6c61c",
   "metadata": {
    "scrolled": true
   },
   "outputs": [
    {
     "name": "stdout",
     "output_type": "stream",
     "text": [
      "Algorithm: KNNWithZScore\n",
      "Computing the msd similarity matrix...\n",
      "Done computing similarity matrix.\n",
      "Computing the msd similarity matrix...\n",
      "Done computing similarity matrix.\n",
      "Computing the msd similarity matrix...\n",
      "Done computing similarity matrix.\n",
      "Computing the msd similarity matrix...\n",
      "Done computing similarity matrix.\n",
      "Computing the msd similarity matrix...\n",
      "Done computing similarity matrix.\n",
      "Computing the msd similarity matrix...\n",
      "Done computing similarity matrix.\n",
      "Computing the msd similarity matrix...\n",
      "Done computing similarity matrix.\n",
      "Computing the msd similarity matrix...\n",
      "Done computing similarity matrix.\n",
      "Computing the msd similarity matrix...\n",
      "Done computing similarity matrix.\n",
      "Computing the msd similarity matrix...\n",
      "Done computing similarity matrix.\n",
      "Computing the msd similarity matrix...\n",
      "Done computing similarity matrix.\n",
      "Computing the msd similarity matrix...\n",
      "Done computing similarity matrix.\n",
      "Computing the msd similarity matrix...\n",
      "Done computing similarity matrix.\n",
      "Computing the msd similarity matrix...\n",
      "Done computing similarity matrix.\n",
      "Computing the msd similarity matrix...\n",
      "Done computing similarity matrix.\n",
      "Computing the msd similarity matrix...\n",
      "Done computing similarity matrix.\n",
      "Computing the msd similarity matrix...\n",
      "Done computing similarity matrix.\n",
      "Computing the msd similarity matrix...\n",
      "Done computing similarity matrix.\n",
      "Computing the msd similarity matrix...\n",
      "Done computing similarity matrix.\n",
      "Computing the msd similarity matrix...\n",
      "Done computing similarity matrix.\n",
      "Computing the msd similarity matrix...\n",
      "Done computing similarity matrix.\n",
      "Computing the msd similarity matrix...\n",
      "Done computing similarity matrix.\n",
      "Computing the msd similarity matrix...\n",
      "Done computing similarity matrix.\n",
      "Computing the msd similarity matrix...\n",
      "Done computing similarity matrix.\n",
      "Computing the msd similarity matrix...\n",
      "Done computing similarity matrix.\n",
      "Computing the msd similarity matrix...\n",
      "Done computing similarity matrix.\n",
      "Computing the msd similarity matrix...\n",
      "Done computing similarity matrix.\n",
      "Computing the msd similarity matrix...\n",
      "Done computing similarity matrix.\n",
      "Computing the msd similarity matrix...\n",
      "Done computing similarity matrix.\n",
      "Computing the msd similarity matrix...\n",
      "Done computing similarity matrix.\n",
      "Computing the msd similarity matrix...\n",
      "Done computing similarity matrix.\n",
      "Computing the msd similarity matrix...\n",
      "Done computing similarity matrix.\n",
      "Computing the msd similarity matrix...\n",
      "Done computing similarity matrix.\n",
      "Computing the msd similarity matrix...\n",
      "Done computing similarity matrix.\n",
      "Computing the msd similarity matrix...\n",
      "Done computing similarity matrix.\n",
      "Computing the msd similarity matrix...\n",
      "Done computing similarity matrix.\n",
      "Computing the cosine similarity matrix...\n",
      "Done computing similarity matrix.\n",
      "Computing the cosine similarity matrix...\n",
      "Done computing similarity matrix.\n",
      "Computing the cosine similarity matrix...\n",
      "Done computing similarity matrix.\n",
      "Computing the cosine similarity matrix...\n",
      "Done computing similarity matrix.\n",
      "Computing the cosine similarity matrix...\n",
      "Done computing similarity matrix.\n",
      "Computing the cosine similarity matrix...\n",
      "Done computing similarity matrix.\n",
      "Computing the cosine similarity matrix...\n",
      "Done computing similarity matrix.\n",
      "Computing the cosine similarity matrix...\n",
      "Done computing similarity matrix.\n",
      "Computing the cosine similarity matrix...\n",
      "Done computing similarity matrix.\n",
      "Computing the cosine similarity matrix...\n",
      "Done computing similarity matrix.\n",
      "Computing the cosine similarity matrix...\n",
      "Done computing similarity matrix.\n",
      "Computing the cosine similarity matrix...\n",
      "Done computing similarity matrix.\n",
      "Computing the cosine similarity matrix...\n",
      "Done computing similarity matrix.\n",
      "Computing the cosine similarity matrix...\n",
      "Done computing similarity matrix.\n",
      "Computing the cosine similarity matrix...\n",
      "Done computing similarity matrix.\n",
      "Computing the cosine similarity matrix...\n",
      "Done computing similarity matrix.\n",
      "Computing the cosine similarity matrix...\n",
      "Done computing similarity matrix.\n",
      "Computing the cosine similarity matrix...\n",
      "Done computing similarity matrix.\n",
      "Computing the cosine similarity matrix...\n",
      "Done computing similarity matrix.\n",
      "Computing the cosine similarity matrix...\n",
      "Done computing similarity matrix.\n",
      "Computing the cosine similarity matrix...\n",
      "Done computing similarity matrix.\n",
      "Computing the cosine similarity matrix...\n",
      "Done computing similarity matrix.\n",
      "Computing the cosine similarity matrix...\n",
      "Done computing similarity matrix.\n",
      "Computing the cosine similarity matrix...\n",
      "Done computing similarity matrix.\n",
      "Computing the cosine similarity matrix...\n",
      "Done computing similarity matrix.\n",
      "Computing the cosine similarity matrix...\n",
      "Done computing similarity matrix.\n",
      "Computing the cosine similarity matrix...\n",
      "Done computing similarity matrix.\n",
      "Computing the cosine similarity matrix...\n",
      "Done computing similarity matrix.\n",
      "Computing the cosine similarity matrix...\n",
      "Done computing similarity matrix.\n",
      "Computing the cosine similarity matrix...\n",
      "Done computing similarity matrix.\n",
      "Computing the cosine similarity matrix...\n",
      "Done computing similarity matrix.\n",
      "Computing the cosine similarity matrix...\n",
      "Done computing similarity matrix.\n",
      "Computing the cosine similarity matrix...\n",
      "Done computing similarity matrix.\n",
      "Computing the cosine similarity matrix...\n",
      "Done computing similarity matrix.\n",
      "Computing the cosine similarity matrix...\n",
      "Done computing similarity matrix.\n",
      "Computing the cosine similarity matrix...\n",
      "Done computing similarity matrix.\n"
     ]
    }
   ],
   "source": [
    "print('Algorithm: KNNWithZScore')\n",
    "KNNWithZScore_gs = GridSearchCV(KNNWithZScore, param_grid, measures = ['rmse', 'mae'], cv = 3)    \n",
    "# Fit data to grid search\n",
    "KNNWithZScore_gs.fit(data)    "
   ]
  },
  {
   "cell_type": "code",
   "execution_count": 42,
   "id": "c3bd037f",
   "metadata": {},
   "outputs": [
    {
     "data": {
      "text/plain": [
       "1.2480805568952686"
      ]
     },
     "execution_count": 42,
     "metadata": {},
     "output_type": "execute_result"
    }
   ],
   "source": [
    "# Get best RMSE score and params\n",
    "KNNWithZScore_gs.best_score['rmse']"
   ]
  },
  {
   "cell_type": "code",
   "execution_count": 43,
   "id": "c818dcfa",
   "metadata": {},
   "outputs": [
    {
     "data": {
      "text/plain": [
       "{'sim_options': {'name': 'cosine', 'min_support': 10, 'user_based': False},\n",
       " 'k': 10}"
      ]
     },
     "execution_count": 43,
     "metadata": {},
     "output_type": "execute_result"
    }
   ],
   "source": [
    "KNNWithZScore_gs.best_params['rmse']"
   ]
  },
  {
   "cell_type": "code",
   "execution_count": 44,
   "id": "e264f209",
   "metadata": {},
   "outputs": [
    {
     "name": "stdout",
     "output_type": "stream",
     "text": [
      "Computing the cosine similarity matrix...\n",
      "Done computing similarity matrix.\n",
      "RMSE: 0.2035\n"
     ]
    },
    {
     "data": {
      "text/plain": [
       "0.20351777513059188"
      ]
     },
     "execution_count": 44,
     "metadata": {},
     "output_type": "execute_result"
    }
   ],
   "source": [
    "KNNWithZScore_gs_algo = KNNWithZScore_gs.best_estimator['rmse']       \n",
    "# Get test RMSE score for obtained algorithm parameters \n",
    "KNNWithZScore_gs_algo.fit(trainset)\n",
    "testset_new = trainset.build_testset()\n",
    "KNNWithZScore_predictions = KNNWithZScore_gs_algo.test(testset_new)\n",
    "rmse(KNNWithZScore_predictions)"
   ]
  },
  {
   "cell_type": "code",
   "execution_count": 45,
   "id": "ae9440c3",
   "metadata": {},
   "outputs": [
    {
     "name": "stdout",
     "output_type": "stream",
     "text": [
      "RMSE: 1.2517\n"
     ]
    },
    {
     "data": {
      "text/plain": [
       "1.2516846898051421"
      ]
     },
     "execution_count": 45,
     "metadata": {},
     "output_type": "execute_result"
    }
   ],
   "source": [
    "KNNWithZScore_predictions = KNNWithZScore_gs_algo.test(testset)\n",
    "rmse(KNNWithZScore_predictions)"
   ]
  },
  {
   "cell_type": "code",
   "execution_count": 46,
   "id": "c2703704",
   "metadata": {
    "scrolled": true
   },
   "outputs": [
    {
     "name": "stdout",
     "output_type": "stream",
     "text": [
      "Algorithm: KNNBaseline\n",
      "Estimating biases using als...\n",
      "Computing the msd similarity matrix...\n",
      "Done computing similarity matrix.\n",
      "Estimating biases using als...\n",
      "Computing the msd similarity matrix...\n",
      "Done computing similarity matrix.\n",
      "Estimating biases using als...\n",
      "Computing the msd similarity matrix...\n",
      "Done computing similarity matrix.\n",
      "Estimating biases using als...\n",
      "Computing the msd similarity matrix...\n",
      "Done computing similarity matrix.\n",
      "Estimating biases using als...\n",
      "Computing the msd similarity matrix...\n",
      "Done computing similarity matrix.\n",
      "Estimating biases using als...\n",
      "Computing the msd similarity matrix...\n",
      "Done computing similarity matrix.\n",
      "Estimating biases using als...\n",
      "Computing the msd similarity matrix...\n",
      "Done computing similarity matrix.\n",
      "Estimating biases using als...\n",
      "Computing the msd similarity matrix...\n",
      "Done computing similarity matrix.\n",
      "Estimating biases using als...\n",
      "Computing the msd similarity matrix...\n",
      "Done computing similarity matrix.\n",
      "Estimating biases using als...\n",
      "Computing the msd similarity matrix...\n",
      "Done computing similarity matrix.\n",
      "Estimating biases using als...\n",
      "Computing the msd similarity matrix...\n",
      "Done computing similarity matrix.\n",
      "Estimating biases using als...\n",
      "Computing the msd similarity matrix...\n",
      "Done computing similarity matrix.\n",
      "Estimating biases using als...\n",
      "Computing the msd similarity matrix...\n",
      "Done computing similarity matrix.\n",
      "Estimating biases using als...\n",
      "Computing the msd similarity matrix...\n",
      "Done computing similarity matrix.\n",
      "Estimating biases using als...\n",
      "Computing the msd similarity matrix...\n",
      "Done computing similarity matrix.\n",
      "Estimating biases using als...\n",
      "Computing the msd similarity matrix...\n",
      "Done computing similarity matrix.\n",
      "Estimating biases using als...\n",
      "Computing the msd similarity matrix...\n",
      "Done computing similarity matrix.\n",
      "Estimating biases using als...\n",
      "Computing the msd similarity matrix...\n",
      "Done computing similarity matrix.\n",
      "Estimating biases using als...\n",
      "Computing the msd similarity matrix...\n",
      "Done computing similarity matrix.\n",
      "Estimating biases using als...\n",
      "Computing the msd similarity matrix...\n",
      "Done computing similarity matrix.\n",
      "Estimating biases using als...\n",
      "Computing the msd similarity matrix...\n",
      "Done computing similarity matrix.\n",
      "Estimating biases using als...\n",
      "Computing the msd similarity matrix...\n",
      "Done computing similarity matrix.\n",
      "Estimating biases using als...\n",
      "Computing the msd similarity matrix...\n",
      "Done computing similarity matrix.\n",
      "Estimating biases using als...\n",
      "Computing the msd similarity matrix...\n",
      "Done computing similarity matrix.\n",
      "Estimating biases using als...\n",
      "Computing the msd similarity matrix...\n",
      "Done computing similarity matrix.\n",
      "Estimating biases using als...\n",
      "Computing the msd similarity matrix...\n",
      "Done computing similarity matrix.\n",
      "Estimating biases using als...\n",
      "Computing the msd similarity matrix...\n",
      "Done computing similarity matrix.\n",
      "Estimating biases using als...\n",
      "Computing the msd similarity matrix...\n",
      "Done computing similarity matrix.\n",
      "Estimating biases using als...\n",
      "Computing the msd similarity matrix...\n",
      "Done computing similarity matrix.\n",
      "Estimating biases using als...\n",
      "Computing the msd similarity matrix...\n",
      "Done computing similarity matrix.\n",
      "Estimating biases using als...\n",
      "Computing the msd similarity matrix...\n",
      "Done computing similarity matrix.\n",
      "Estimating biases using als...\n",
      "Computing the msd similarity matrix...\n",
      "Done computing similarity matrix.\n",
      "Estimating biases using als...\n",
      "Computing the msd similarity matrix...\n",
      "Done computing similarity matrix.\n",
      "Estimating biases using als...\n",
      "Computing the msd similarity matrix...\n",
      "Done computing similarity matrix.\n",
      "Estimating biases using als...\n",
      "Computing the msd similarity matrix...\n",
      "Done computing similarity matrix.\n",
      "Estimating biases using als...\n",
      "Computing the msd similarity matrix...\n",
      "Done computing similarity matrix.\n",
      "Estimating biases using als...\n",
      "Computing the cosine similarity matrix...\n",
      "Done computing similarity matrix.\n",
      "Estimating biases using als...\n",
      "Computing the cosine similarity matrix...\n",
      "Done computing similarity matrix.\n",
      "Estimating biases using als...\n",
      "Computing the cosine similarity matrix...\n",
      "Done computing similarity matrix.\n",
      "Estimating biases using als...\n",
      "Computing the cosine similarity matrix...\n",
      "Done computing similarity matrix.\n",
      "Estimating biases using als...\n",
      "Computing the cosine similarity matrix...\n",
      "Done computing similarity matrix.\n",
      "Estimating biases using als...\n",
      "Computing the cosine similarity matrix...\n",
      "Done computing similarity matrix.\n",
      "Estimating biases using als...\n",
      "Computing the cosine similarity matrix...\n",
      "Done computing similarity matrix.\n",
      "Estimating biases using als...\n",
      "Computing the cosine similarity matrix...\n",
      "Done computing similarity matrix.\n",
      "Estimating biases using als...\n",
      "Computing the cosine similarity matrix...\n",
      "Done computing similarity matrix.\n",
      "Estimating biases using als...\n",
      "Computing the cosine similarity matrix...\n",
      "Done computing similarity matrix.\n",
      "Estimating biases using als...\n",
      "Computing the cosine similarity matrix...\n",
      "Done computing similarity matrix.\n",
      "Estimating biases using als...\n",
      "Computing the cosine similarity matrix...\n",
      "Done computing similarity matrix.\n",
      "Estimating biases using als...\n",
      "Computing the cosine similarity matrix...\n",
      "Done computing similarity matrix.\n",
      "Estimating biases using als...\n",
      "Computing the cosine similarity matrix...\n",
      "Done computing similarity matrix.\n",
      "Estimating biases using als...\n",
      "Computing the cosine similarity matrix...\n",
      "Done computing similarity matrix.\n",
      "Estimating biases using als...\n",
      "Computing the cosine similarity matrix...\n",
      "Done computing similarity matrix.\n",
      "Estimating biases using als...\n",
      "Computing the cosine similarity matrix...\n",
      "Done computing similarity matrix.\n",
      "Estimating biases using als...\n",
      "Computing the cosine similarity matrix...\n",
      "Done computing similarity matrix.\n",
      "Estimating biases using als...\n",
      "Computing the cosine similarity matrix...\n",
      "Done computing similarity matrix.\n",
      "Estimating biases using als...\n",
      "Computing the cosine similarity matrix...\n",
      "Done computing similarity matrix.\n",
      "Estimating biases using als...\n",
      "Computing the cosine similarity matrix...\n",
      "Done computing similarity matrix.\n",
      "Estimating biases using als...\n",
      "Computing the cosine similarity matrix...\n",
      "Done computing similarity matrix.\n",
      "Estimating biases using als...\n",
      "Computing the cosine similarity matrix...\n",
      "Done computing similarity matrix.\n",
      "Estimating biases using als...\n",
      "Computing the cosine similarity matrix...\n",
      "Done computing similarity matrix.\n",
      "Estimating biases using als...\n",
      "Computing the cosine similarity matrix...\n",
      "Done computing similarity matrix.\n",
      "Estimating biases using als...\n",
      "Computing the cosine similarity matrix...\n",
      "Done computing similarity matrix.\n",
      "Estimating biases using als...\n",
      "Computing the cosine similarity matrix...\n",
      "Done computing similarity matrix.\n",
      "Estimating biases using als...\n",
      "Computing the cosine similarity matrix...\n",
      "Done computing similarity matrix.\n",
      "Estimating biases using als...\n",
      "Computing the cosine similarity matrix...\n",
      "Done computing similarity matrix.\n",
      "Estimating biases using als...\n",
      "Computing the cosine similarity matrix...\n",
      "Done computing similarity matrix.\n",
      "Estimating biases using als...\n",
      "Computing the cosine similarity matrix...\n",
      "Done computing similarity matrix.\n",
      "Estimating biases using als...\n",
      "Computing the cosine similarity matrix...\n",
      "Done computing similarity matrix.\n",
      "Estimating biases using als...\n",
      "Computing the cosine similarity matrix...\n",
      "Done computing similarity matrix.\n",
      "Estimating biases using als...\n",
      "Computing the cosine similarity matrix...\n",
      "Done computing similarity matrix.\n",
      "Estimating biases using als...\n",
      "Computing the cosine similarity matrix...\n",
      "Done computing similarity matrix.\n",
      "Estimating biases using als...\n",
      "Computing the cosine similarity matrix...\n",
      "Done computing similarity matrix.\n"
     ]
    }
   ],
   "source": [
    "print('Algorithm: KNNBaseline')\n",
    "        \n",
    "# Grid search\n",
    "KNNBaseline_gs = GridSearchCV(KNNBaseline, param_grid, measures = ['rmse', 'mae'], cv = 3)    \n",
    "# Fit data to grid search\n",
    "KNNBaseline_gs.fit(data)    "
   ]
  },
  {
   "cell_type": "code",
   "execution_count": 47,
   "id": "8692545e",
   "metadata": {},
   "outputs": [
    {
     "data": {
      "text/plain": [
       "1.2041058291603604"
      ]
     },
     "execution_count": 47,
     "metadata": {},
     "output_type": "execute_result"
    }
   ],
   "source": [
    "# Get best RMSE score and params\n",
    "KNNBaseline_gs.best_score['rmse']"
   ]
  },
  {
   "cell_type": "code",
   "execution_count": 48,
   "id": "c5f8b748",
   "metadata": {},
   "outputs": [
    {
     "data": {
      "text/plain": [
       "{'sim_options': {'name': 'msd', 'min_support': 10, 'user_based': False},\n",
       " 'k': 30}"
      ]
     },
     "execution_count": 48,
     "metadata": {},
     "output_type": "execute_result"
    }
   ],
   "source": [
    "KNNBaseline_gs.best_params['rmse']"
   ]
  },
  {
   "cell_type": "code",
   "execution_count": 49,
   "id": "b69adb4e",
   "metadata": {},
   "outputs": [
    {
     "name": "stdout",
     "output_type": "stream",
     "text": [
      "Estimating biases using als...\n",
      "Computing the msd similarity matrix...\n",
      "Done computing similarity matrix.\n",
      "RMSE: 0.1173\n"
     ]
    },
    {
     "data": {
      "text/plain": [
       "0.11726175907261883"
      ]
     },
     "execution_count": 49,
     "metadata": {},
     "output_type": "execute_result"
    }
   ],
   "source": [
    "# Get algorithm parameters that gives best rmse value\n",
    "KNNBaseline_gs_algo = KNNBaseline_gs.best_estimator['rmse']       \n",
    "# Get test RMSE score for obtained algorithm parameters \n",
    "KNNBaseline_gs_algo.fit(trainset)\n",
    "testset_new = trainset.build_testset()\n",
    "KNNBaseline_predictions = KNNBaseline_gs_algo.test(testset_new)\n",
    "rmse(KNNBaseline_predictions)"
   ]
  },
  {
   "cell_type": "code",
   "execution_count": 50,
   "id": "4419ea86",
   "metadata": {},
   "outputs": [
    {
     "name": "stdout",
     "output_type": "stream",
     "text": [
      "RMSE: 1.2088\n"
     ]
    },
    {
     "data": {
      "text/plain": [
       "1.2088414270699386"
      ]
     },
     "execution_count": 50,
     "metadata": {},
     "output_type": "execute_result"
    }
   ],
   "source": [
    "KNNBaseline_predictions = KNNBaseline_gs_algo.test(testset)\n",
    "rmse(KNNBaseline_predictions)"
   ]
  },
  {
   "cell_type": "code",
   "execution_count": 51,
   "id": "49f1af8d",
   "metadata": {},
   "outputs": [],
   "source": [
    "param_grid={\n",
    "    \"n_epochs\":[5,10],\n",
    "    \"lr_all\":[0.002,0.005],\n",
    "    'reg_all':[0.4,0.6]\n",
    "}\n",
    "SVD_gs=GridSearchCV(SVD,param_grid,measures=['rmse','mae'],cv=3,refit=True)\n",
    "SVD_gs.fit(data)"
   ]
  },
  {
   "cell_type": "code",
   "execution_count": 52,
   "id": "3dd472d5",
   "metadata": {},
   "outputs": [
    {
     "data": {
      "text/plain": [
       "1.196271298942469"
      ]
     },
     "execution_count": 52,
     "metadata": {},
     "output_type": "execute_result"
    }
   ],
   "source": [
    "SVD_gs.best_score['rmse']"
   ]
  },
  {
   "cell_type": "code",
   "execution_count": 53,
   "id": "d505ac06",
   "metadata": {},
   "outputs": [
    {
     "data": {
      "text/plain": [
       "{'n_epochs': 10, 'lr_all': 0.005, 'reg_all': 0.4}"
      ]
     },
     "execution_count": 53,
     "metadata": {},
     "output_type": "execute_result"
    }
   ],
   "source": [
    "SVD_gs.best_params['rmse']"
   ]
  },
  {
   "cell_type": "code",
   "execution_count": 54,
   "id": "6ed3618e",
   "metadata": {},
   "outputs": [
    {
     "name": "stdout",
     "output_type": "stream",
     "text": [
      "RMSE: 1.1354\n"
     ]
    },
    {
     "data": {
      "text/plain": [
       "1.1354389662547106"
      ]
     },
     "execution_count": 54,
     "metadata": {},
     "output_type": "execute_result"
    }
   ],
   "source": [
    "SVD_gs_algo = SVD_gs.best_estimator['rmse']       \n",
    "# Get test RMSE score for obtained algorithm parameters \n",
    "SVD_gs_algo.fit(trainset)\n",
    "testset_new = trainset.build_testset()\n",
    "SVD_predictions = SVD_gs_algo.test(testset_new)\n",
    "rmse(SVD_predictions)"
   ]
  },
  {
   "cell_type": "code",
   "execution_count": 55,
   "id": "4c1433da",
   "metadata": {},
   "outputs": [
    {
     "name": "stdout",
     "output_type": "stream",
     "text": [
      "RMSE: 1.1973\n"
     ]
    },
    {
     "data": {
      "text/plain": [
       "1.1972889782685057"
      ]
     },
     "execution_count": 55,
     "metadata": {},
     "output_type": "execute_result"
    }
   ],
   "source": [
    "SVD_predictions = SVD_gs_algo.test(testset)\n",
    "rmse(SVD_predictions)"
   ]
  },
  {
   "cell_type": "code",
   "execution_count": 56,
   "id": "704f3a9a",
   "metadata": {},
   "outputs": [],
   "source": [
    "SVDpp_gs=GridSearchCV(SVDpp,param_grid,measures=['rmse','mae'],cv=3,refit=True)\n",
    "SVDpp_gs.fit(data)"
   ]
  },
  {
   "cell_type": "code",
   "execution_count": 57,
   "id": "9a991e6f",
   "metadata": {},
   "outputs": [
    {
     "data": {
      "text/plain": [
       "1.1965548995049757"
      ]
     },
     "execution_count": 57,
     "metadata": {},
     "output_type": "execute_result"
    }
   ],
   "source": [
    "SVDpp_gs.best_score['rmse']"
   ]
  },
  {
   "cell_type": "code",
   "execution_count": 58,
   "id": "155ecf1d",
   "metadata": {},
   "outputs": [
    {
     "data": {
      "text/plain": [
       "{'n_epochs': 10, 'lr_all': 0.005, 'reg_all': 0.4}"
      ]
     },
     "execution_count": 58,
     "metadata": {},
     "output_type": "execute_result"
    }
   ],
   "source": [
    "SVDpp_gs.best_params['rmse']"
   ]
  },
  {
   "cell_type": "code",
   "execution_count": 59,
   "id": "e24114f5",
   "metadata": {},
   "outputs": [
    {
     "name": "stdout",
     "output_type": "stream",
     "text": [
      "RMSE: 1.1372\n"
     ]
    },
    {
     "data": {
      "text/plain": [
       "1.1372133220867102"
      ]
     },
     "execution_count": 59,
     "metadata": {},
     "output_type": "execute_result"
    }
   ],
   "source": [
    "SVDpp_gs_algo = SVDpp_gs.best_estimator['rmse']     \n",
    "SVDpp_gs_algo.fit(trainset)\n",
    "testset_new = trainset.build_testset()\n",
    "SVDpp_predictions = SVDpp_gs_algo.test(testset_new)\n",
    "rmse(SVDpp_predictions)"
   ]
  },
  {
   "cell_type": "code",
   "execution_count": 60,
   "id": "3f18e73a",
   "metadata": {},
   "outputs": [
    {
     "name": "stdout",
     "output_type": "stream",
     "text": [
      "RMSE: 1.1975\n"
     ]
    },
    {
     "data": {
      "text/plain": [
       "1.1975302974376674"
      ]
     },
     "execution_count": 60,
     "metadata": {},
     "output_type": "execute_result"
    }
   ],
   "source": [
    "SVDpp_predictions = SVDpp_gs_algo.test(testset)\n",
    "rmse(SVDpp_predictions)"
   ]
  },
  {
   "cell_type": "code",
   "execution_count": null,
   "id": "c935db4b",
   "metadata": {},
   "outputs": [],
   "source": []
  },
  {
   "cell_type": "code",
   "execution_count": 61,
   "id": "8ec57702",
   "metadata": {},
   "outputs": [],
   "source": [
    "param_grid={\n",
    "    \"n_epochs\":[5,10],\n",
    "    \"lr_bu\":[0.002,0.005],\n",
    "    \"lr_bi\":[0.002,0.005],\n",
    "    'reg_pu':[0.4,0.6],\n",
    "    'reg_qi':[0.4,0.6],\n",
    "    'reg_bu':[0.4,0.6],\n",
    "    'reg_bi':[0.4,0.6],\n",
    "}"
   ]
  },
  {
   "cell_type": "code",
   "execution_count": 62,
   "id": "9cc73ca4",
   "metadata": {},
   "outputs": [],
   "source": [
    "NMF_gs=GridSearchCV(NMF,param_grid,measures=['rmse','mae'],cv=3,refit=True)\n",
    "NMF_gs.fit(data)"
   ]
  },
  {
   "cell_type": "code",
   "execution_count": 63,
   "id": "8ae04bcc",
   "metadata": {},
   "outputs": [
    {
     "data": {
      "text/plain": [
       "1.3356773742429235"
      ]
     },
     "execution_count": 63,
     "metadata": {},
     "output_type": "execute_result"
    }
   ],
   "source": [
    "NMF_gs.best_score['rmse']"
   ]
  },
  {
   "cell_type": "code",
   "execution_count": 64,
   "id": "5aa5265b",
   "metadata": {},
   "outputs": [
    {
     "data": {
      "text/plain": [
       "{'n_epochs': 10,\n",
       " 'lr_bu': 0.005,\n",
       " 'lr_bi': 0.005,\n",
       " 'reg_pu': 0.4,\n",
       " 'reg_qi': 0.4,\n",
       " 'reg_bu': 0.4,\n",
       " 'reg_bi': 0.4}"
      ]
     },
     "execution_count": 64,
     "metadata": {},
     "output_type": "execute_result"
    }
   ],
   "source": [
    "NMF_gs.best_params['rmse']"
   ]
  },
  {
   "cell_type": "code",
   "execution_count": 65,
   "id": "59ca57ff",
   "metadata": {},
   "outputs": [
    {
     "name": "stdout",
     "output_type": "stream",
     "text": [
      "RMSE: 0.5144\n"
     ]
    },
    {
     "data": {
      "text/plain": [
       "0.5143983304276837"
      ]
     },
     "execution_count": 65,
     "metadata": {},
     "output_type": "execute_result"
    }
   ],
   "source": [
    "NMF_gs_algo = NMF_gs.best_estimator['rmse']       \n",
    "# Get test RMSE score for obtained algorithm parameters \n",
    "NMF_gs_algo.fit(trainset)\n",
    "testset_new = trainset.build_testset()\n",
    "NMF_predictions = NMF_gs_algo.test(testset_new)\n",
    "rmse(NMF_predictions)"
   ]
  },
  {
   "cell_type": "code",
   "execution_count": 66,
   "id": "0ce71056",
   "metadata": {},
   "outputs": [
    {
     "name": "stdout",
     "output_type": "stream",
     "text": [
      "RMSE: 1.3410\n"
     ]
    },
    {
     "data": {
      "text/plain": [
       "1.3410089866682777"
      ]
     },
     "execution_count": 66,
     "metadata": {},
     "output_type": "execute_result"
    }
   ],
   "source": [
    "NMF_predictions = NMF_gs_algo.test(testset)\n",
    "rmse(NMF_predictions)"
   ]
  },
  {
   "cell_type": "code",
   "execution_count": null,
   "id": "9476a6d5",
   "metadata": {},
   "outputs": [],
   "source": []
  },
  {
   "cell_type": "code",
   "execution_count": 67,
   "id": "aea43155",
   "metadata": {},
   "outputs": [],
   "source": [
    "param_grid={\n",
    "    \"n_epochs\":[5,10,15],\n",
    "    \"n_cltr_u\":[3,5,7,10],\n",
    "    \"n_cltr_i\":[3,5,7,10],\n",
    "}"
   ]
  },
  {
   "cell_type": "code",
   "execution_count": 68,
   "id": "f68e3814",
   "metadata": {},
   "outputs": [],
   "source": [
    "CoClustering_gs=GridSearchCV(CoClustering,param_grid,measures=['rmse','mae'],cv=3,refit=True)\n",
    "CoClustering_gs.fit(data)"
   ]
  },
  {
   "cell_type": "code",
   "execution_count": 69,
   "id": "06827b71",
   "metadata": {},
   "outputs": [
    {
     "data": {
      "text/plain": [
       "1.2890418033091509"
      ]
     },
     "execution_count": 69,
     "metadata": {},
     "output_type": "execute_result"
    }
   ],
   "source": [
    "CoClustering_gs.best_score['rmse']"
   ]
  },
  {
   "cell_type": "code",
   "execution_count": 70,
   "id": "241543ab",
   "metadata": {},
   "outputs": [
    {
     "data": {
      "text/plain": [
       "{'n_epochs': 5, 'n_cltr_u': 3, 'n_cltr_i': 5}"
      ]
     },
     "execution_count": 70,
     "metadata": {},
     "output_type": "execute_result"
    }
   ],
   "source": [
    "CoClustering_gs.best_params['rmse']"
   ]
  },
  {
   "cell_type": "code",
   "execution_count": 71,
   "id": "2b360b74",
   "metadata": {},
   "outputs": [
    {
     "name": "stdout",
     "output_type": "stream",
     "text": [
      "RMSE: 0.5581\n"
     ]
    },
    {
     "data": {
      "text/plain": [
       "0.5581227104611539"
      ]
     },
     "execution_count": 71,
     "metadata": {},
     "output_type": "execute_result"
    }
   ],
   "source": [
    "CoClustering_gs_algo = CoClustering_gs.best_estimator['rmse']       \n",
    "CoClustering_gs_algo.fit(trainset)\n",
    "testset_new = trainset.build_testset()\n",
    "CoClustering_predictions = CoClustering_gs_algo.test(testset_new)\n",
    "rmse(CoClustering_predictions)"
   ]
  },
  {
   "cell_type": "code",
   "execution_count": 72,
   "id": "045381c7",
   "metadata": {},
   "outputs": [
    {
     "name": "stdout",
     "output_type": "stream",
     "text": [
      "RMSE: 1.2929\n"
     ]
    },
    {
     "data": {
      "text/plain": [
       "1.292900476051877"
      ]
     },
     "execution_count": 72,
     "metadata": {},
     "output_type": "execute_result"
    }
   ],
   "source": [
    "CoClustering_predictions = CoClustering_gs_algo.test(testset)\n",
    "rmse(CoClustering_predictions)"
   ]
  },
  {
   "cell_type": "code",
   "execution_count": 74,
   "id": "432703e1",
   "metadata": {},
   "outputs": [
    {
     "name": "stdout",
     "output_type": "stream",
     "text": [
      "RMSE: 1.2929\n",
      "RMSE for Coclustering 1.292900476051877\n",
      "RMSE: 1.3410\n",
      "RMSE for NMF 1.3410089866682777\n",
      "RMSE: 1.1975\n",
      "RMSE for SVDpp 1.1975302974376674\n",
      "RMSE: 1.1973\n",
      "RMSE for SVD 1.1972889782685057\n",
      "RMSE: 1.2088\n",
      "RMSE for KNNBaseline 1.2088414270699386\n",
      "RMSE: 1.2517\n",
      "RMSE for KNNWithZScore 1.2516846898051421\n",
      "RMSE: 1.2644\n",
      "RMSE for KNNBasic 1.2644319814119982\n",
      "RMSE: 1.2522\n",
      "RMSE for KNNWithMeans 1.2522451382100435\n"
     ]
    }
   ],
   "source": [
    "print(\"RMSE for Coclustering\",rmse(CoClustering_predictions))\n",
    "print(\"RMSE for NMF\",rmse(NMF_predictions))\n",
    "print(\"RMSE for SVDpp\",rmse(SVDpp_predictions))\n",
    "print(\"RMSE for SVD\",rmse(SVD_predictions))\n",
    "print(\"RMSE for KNNBaseline\",rmse(KNNBaseline_predictions))\n",
    "print(\"RMSE for KNNWithZScore\",rmse(KNNWithZScore_predictions))\n",
    "print(\"RMSE for KNNBasic\",rmse(KNNBasic_predictions))\n",
    "print(\"RMSE for KNNWithMeans\",rmse(KNNWithMeans_predictions))\n"
   ]
  },
  {
   "cell_type": "code",
   "execution_count": null,
   "id": "a9636d9a",
   "metadata": {},
   "outputs": [],
   "source": []
  },
  {
   "cell_type": "code",
   "execution_count": null,
   "id": "ee0f5792",
   "metadata": {},
   "outputs": [],
   "source": []
  },
  {
   "cell_type": "code",
   "execution_count": null,
   "id": "3b2bf8be",
   "metadata": {},
   "outputs": [],
   "source": []
  },
  {
   "cell_type": "code",
   "execution_count": null,
   "id": "da1a12fa",
   "metadata": {},
   "outputs": [],
   "source": []
  },
  {
   "cell_type": "code",
   "execution_count": null,
   "id": "781a79fb",
   "metadata": {},
   "outputs": [],
   "source": []
  },
  {
   "cell_type": "code",
   "execution_count": null,
   "id": "c2e764de",
   "metadata": {},
   "outputs": [],
   "source": []
  },
  {
   "cell_type": "code",
   "execution_count": 110,
   "id": "3ac3c904",
   "metadata": {},
   "outputs": [
    {
     "data": {
      "text/plain": [
       "[('A3BDWMCBYV9U0P', 'B004I5BUSO', 4.0),\n",
       " ('A2HK5WOXTVOK0J', 'B0038W0K2K', 2.0),\n",
       " ('A2ANZTYXXZR17H', 'B005QFH86S', 5.0),\n",
       " ('A13F315V0TL1SP', 'B002QEBMAK', 5.0),\n",
       " ('A1CPNCYR58XACM', 'B0057OCDQS', 1.0),\n",
       " ('AAY9U0FNNK1FE', 'B0055D66V4', 5.0),\n",
       " ('ABNJI4LE2TS4H', 'B003UE52ME', 3.0),\n",
       " ('A2SP4FE0VQ06F6', 'B00BGGDVOO', 5.0),\n",
       " ('A7B5H341CVZ0H', 'B0000BVYTV', 2.0),\n",
       " ('ARN14YLM60XPE', 'B004G6002M', 5.0)]"
      ]
     },
     "execution_count": 110,
     "metadata": {},
     "output_type": "execute_result"
    }
   ],
   "source": [
    "testset_new"
   ]
  },
  {
   "cell_type": "markdown",
   "id": "54f9c5a2",
   "metadata": {},
   "source": [
    "Pick up 10 random items from the test set and show their real rating in the data set and their predicted rating by the algorithm."
   ]
  },
  {
   "cell_type": "code",
   "execution_count": 109,
   "id": "cf04f094",
   "metadata": {},
   "outputs": [
    {
     "name": "stdout",
     "output_type": "stream",
     "text": [
      "RMSE: 1.4469\n"
     ]
    },
    {
     "data": {
      "text/plain": [
       "1.4469284626805468"
      ]
     },
     "execution_count": 109,
     "metadata": {},
     "output_type": "execute_result"
    }
   ],
   "source": [
    "testset_new = testset\n",
    "testset_new=random.sample(testset_new,10)\n",
    "best_predictions = SVD_gs_algo.test(testset)\n",
    "rmse(best_predictions)"
   ]
  },
  {
   "cell_type": "code",
   "execution_count": 95,
   "id": "66999ef2",
   "metadata": {},
   "outputs": [
    {
     "data": {
      "text/plain": [
       "[('A3JF086SI7S4UE', 'B006TT91TW', 4.0),\n",
       " ('A101N7IHY96TNR', 'B002LARRDK', 4.0),\n",
       " ('A10ZWA8WB0YRYZ', 'B004SY5O5K', 5.0),\n",
       " ('A1L5V91GYQQI1E', 'B005CLPP8E', 2.0),\n",
       " ('A358BRTFHRSBXE', 'B008GVM9K4', 5.0),\n",
       " ('A249Z4CWWNF2NX', 'B002HU629E', 5.0),\n",
       " ('A20905WZ3CM9OR', 'B003FVJYF8', 4.0),\n",
       " ('A12RN2862R5H2R', 'B008ABOJKS', 5.0),\n",
       " ('AXWHQ06HOVUY7', 'B0048IW030', 5.0),\n",
       " ('AV3XIEFHBNSUX', 'B005DSPLDA', 5.0)]"
      ]
     },
     "execution_count": 95,
     "metadata": {},
     "output_type": "execute_result"
    }
   ],
   "source": [
    "testset"
   ]
  },
  {
   "cell_type": "code",
   "execution_count": 96,
   "id": "c00c16ac",
   "metadata": {},
   "outputs": [],
   "source": [
    "est=list()\n",
    "real_rating=list()\n",
    "uid=list()\n",
    "iid=list()\n",
    "for i in testset:\n",
    "    uid.append(i[0])\n",
    "    iid.append(i[1])\n",
    "    est.append(SVD_gs_algo.predict(i[0], i[1]).est)\n",
    "    real_rating.append(i[2])"
   ]
  },
  {
   "cell_type": "code",
   "execution_count": 97,
   "id": "2f40278d",
   "metadata": {},
   "outputs": [
    {
     "data": {
      "text/html": [
       "<div>\n",
       "<style scoped>\n",
       "    .dataframe tbody tr th:only-of-type {\n",
       "        vertical-align: middle;\n",
       "    }\n",
       "\n",
       "    .dataframe tbody tr th {\n",
       "        vertical-align: top;\n",
       "    }\n",
       "\n",
       "    .dataframe thead th {\n",
       "        text-align: right;\n",
       "    }\n",
       "</style>\n",
       "<table border=\"1\" class=\"dataframe\">\n",
       "  <thead>\n",
       "    <tr style=\"text-align: right;\">\n",
       "      <th></th>\n",
       "      <th>User ID</th>\n",
       "      <th>Item ID</th>\n",
       "      <th>Real Rating</th>\n",
       "      <th>Predicted Rating</th>\n",
       "    </tr>\n",
       "  </thead>\n",
       "  <tbody>\n",
       "  </tbody>\n",
       "</table>\n",
       "</div>"
      ],
      "text/plain": [
       "Empty DataFrame\n",
       "Columns: [User ID, Item ID, Real Rating, Predicted Rating]\n",
       "Index: []"
      ]
     },
     "execution_count": 97,
     "metadata": {},
     "output_type": "execute_result"
    }
   ],
   "source": [
    "final_preds=pd.DataFrame(columns=['User ID','Item ID','Real Rating','Predicted Rating'])\n",
    "final_preds"
   ]
  },
  {
   "cell_type": "code",
   "execution_count": 98,
   "id": "d4d64d7e",
   "metadata": {},
   "outputs": [],
   "source": [
    "#est,real_rating, uid,iid"
   ]
  },
  {
   "cell_type": "code",
   "execution_count": 99,
   "id": "f1de6846",
   "metadata": {},
   "outputs": [],
   "source": [
    "final_preds['User ID']=uid\n",
    "final_preds['Item ID']=iid\n",
    "final_preds['Real Rating']=real_rating\n",
    "final_preds['Predicted Rating']=est"
   ]
  },
  {
   "cell_type": "code",
   "execution_count": 100,
   "id": "d450eb15",
   "metadata": {},
   "outputs": [
    {
     "data": {
      "text/html": [
       "<div>\n",
       "<style scoped>\n",
       "    .dataframe tbody tr th:only-of-type {\n",
       "        vertical-align: middle;\n",
       "    }\n",
       "\n",
       "    .dataframe tbody tr th {\n",
       "        vertical-align: top;\n",
       "    }\n",
       "\n",
       "    .dataframe thead th {\n",
       "        text-align: right;\n",
       "    }\n",
       "</style>\n",
       "<table border=\"1\" class=\"dataframe\">\n",
       "  <thead>\n",
       "    <tr style=\"text-align: right;\">\n",
       "      <th></th>\n",
       "      <th>User ID</th>\n",
       "      <th>Item ID</th>\n",
       "      <th>Real Rating</th>\n",
       "      <th>Predicted Rating</th>\n",
       "    </tr>\n",
       "  </thead>\n",
       "  <tbody>\n",
       "    <tr>\n",
       "      <th>0</th>\n",
       "      <td>A3JF086SI7S4UE</td>\n",
       "      <td>B006TT91TW</td>\n",
       "      <td>4.0</td>\n",
       "      <td>4.135761</td>\n",
       "    </tr>\n",
       "    <tr>\n",
       "      <th>1</th>\n",
       "      <td>A101N7IHY96TNR</td>\n",
       "      <td>B002LARRDK</td>\n",
       "      <td>4.0</td>\n",
       "      <td>4.146592</td>\n",
       "    </tr>\n",
       "    <tr>\n",
       "      <th>2</th>\n",
       "      <td>A10ZWA8WB0YRYZ</td>\n",
       "      <td>B004SY5O5K</td>\n",
       "      <td>5.0</td>\n",
       "      <td>4.485421</td>\n",
       "    </tr>\n",
       "    <tr>\n",
       "      <th>3</th>\n",
       "      <td>A1L5V91GYQQI1E</td>\n",
       "      <td>B005CLPP8E</td>\n",
       "      <td>2.0</td>\n",
       "      <td>4.156373</td>\n",
       "    </tr>\n",
       "    <tr>\n",
       "      <th>4</th>\n",
       "      <td>A358BRTFHRSBXE</td>\n",
       "      <td>B008GVM9K4</td>\n",
       "      <td>5.0</td>\n",
       "      <td>3.735558</td>\n",
       "    </tr>\n",
       "    <tr>\n",
       "      <th>5</th>\n",
       "      <td>A249Z4CWWNF2NX</td>\n",
       "      <td>B002HU629E</td>\n",
       "      <td>5.0</td>\n",
       "      <td>3.741299</td>\n",
       "    </tr>\n",
       "    <tr>\n",
       "      <th>6</th>\n",
       "      <td>A20905WZ3CM9OR</td>\n",
       "      <td>B003FVJYF8</td>\n",
       "      <td>4.0</td>\n",
       "      <td>4.576711</td>\n",
       "    </tr>\n",
       "    <tr>\n",
       "      <th>7</th>\n",
       "      <td>A12RN2862R5H2R</td>\n",
       "      <td>B008ABOJKS</td>\n",
       "      <td>5.0</td>\n",
       "      <td>4.150336</td>\n",
       "    </tr>\n",
       "    <tr>\n",
       "      <th>8</th>\n",
       "      <td>AXWHQ06HOVUY7</td>\n",
       "      <td>B0048IW030</td>\n",
       "      <td>5.0</td>\n",
       "      <td>4.656577</td>\n",
       "    </tr>\n",
       "    <tr>\n",
       "      <th>9</th>\n",
       "      <td>AV3XIEFHBNSUX</td>\n",
       "      <td>B005DSPLDA</td>\n",
       "      <td>5.0</td>\n",
       "      <td>4.445685</td>\n",
       "    </tr>\n",
       "  </tbody>\n",
       "</table>\n",
       "</div>"
      ],
      "text/plain": [
       "          User ID     Item ID  Real Rating  Predicted Rating\n",
       "0  A3JF086SI7S4UE  B006TT91TW          4.0          4.135761\n",
       "1  A101N7IHY96TNR  B002LARRDK          4.0          4.146592\n",
       "2  A10ZWA8WB0YRYZ  B004SY5O5K          5.0          4.485421\n",
       "3  A1L5V91GYQQI1E  B005CLPP8E          2.0          4.156373\n",
       "4  A358BRTFHRSBXE  B008GVM9K4          5.0          3.735558\n",
       "5  A249Z4CWWNF2NX  B002HU629E          5.0          3.741299\n",
       "6  A20905WZ3CM9OR  B003FVJYF8          4.0          4.576711\n",
       "7  A12RN2862R5H2R  B008ABOJKS          5.0          4.150336\n",
       "8   AXWHQ06HOVUY7  B0048IW030          5.0          4.656577\n",
       "9   AV3XIEFHBNSUX  B005DSPLDA          5.0          4.445685"
      ]
     },
     "execution_count": 100,
     "metadata": {},
     "output_type": "execute_result"
    }
   ],
   "source": [
    "final_preds"
   ]
  },
  {
   "cell_type": "code",
   "execution_count": null,
   "id": "718cae62",
   "metadata": {},
   "outputs": [],
   "source": []
  },
  {
   "cell_type": "markdown",
   "id": "62110ad8",
   "metadata": {},
   "source": [
    "We have tested on all the models SVD,SVDpp,KNNWithMeans, KNNBasic,KNNBaseline, KNNWithzscore, CoClustering and NMF.\n",
    "\n",
    "To begin with we are fitting all the models are trained on the complete dataset and then tested on train and test dataset which might have caused all the models could to be biased on the predictions. SVDpp has been the quickest while the NMF, Coclustering were taking longer than usual, however the results from both the longer algorithms were lesser than the SVDpp and SVD. Best Results were obtained by SVDpp and SVD which resulted in a training rmse of ~ 1.197 each on total testset and 0.98 on 10 random samples picked from testset, while the best parameters as per gridsearch were {'n_epochs': 10, 'lr_all': 0.005, 'reg_all': 0.4}\n",
    "\n",
    "\n",
    "From the predicted values majority of the values are close enough, while we can still notice some differences in the ratings for items like B005S1CYO6, B001PBYQHG. This is a result of biased training"
   ]
  },
  {
   "cell_type": "code",
   "execution_count": null,
   "id": "1848667d",
   "metadata": {},
   "outputs": [],
   "source": []
  }
 ],
 "metadata": {
  "kernelspec": {
   "display_name": "Python 3 (ipykernel)",
   "language": "python",
   "name": "python3"
  },
  "language_info": {
   "codemirror_mode": {
    "name": "ipython",
    "version": 3
   },
   "file_extension": ".py",
   "mimetype": "text/x-python",
   "name": "python",
   "nbconvert_exporter": "python",
   "pygments_lexer": "ipython3",
   "version": "3.9.12"
  }
 },
 "nbformat": 4,
 "nbformat_minor": 5
}
